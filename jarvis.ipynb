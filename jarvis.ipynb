{
  "metadata": {
    "kernelspec": {
      "name": "python",
      "display_name": "Python (Pyodide)",
      "language": "python"
    },
    "language_info": {
      "codemirror_mode": {
        "name": "python",
        "version": 3
      },
      "file_extension": ".py",
      "mimetype": "text/x-python",
      "name": "python",
      "nbconvert_exporter": "python",
      "pygments_lexer": "ipython3",
      "version": "3.8"
    }
  },
  "nbformat_minor": 5,
  "nbformat": 4,
  "cells": [
    {
      "id": "ae4bcd33-ac95-4322-9bf4-efe8bd7150ea",
      "cell_type": "code",
      "source": "import pandas as pd\nfrom sklearn.feature_extraction.text import CountVectorizer\nfrom sklearn.model_selection import train_test_split\nfrom sklearn.naive_bayes import MultinomialNB\nfrom sklearn.metrics import accuracy_score\nimport pickle\n\ndata = {'text': ['Send Email', 'Create List', 'Set Reminder', 'Search Google', 'Hello Jarvis', \n                 'send email', 'mind to send a mail?', 'compose a mail', \n                 'remind me', 'give me a heads up', 'create a reminder', \n                 'Search Google for', 'Can you search Google for', 'Jarvis search Google for', \n                 'Good morning', 'Good afternoon', 'Good evening'], \n        'intent': ['Send Email', 'Create List', 'Set Reminder', 'Search Google', 'Greetings', \n                  'Send Email', 'Send Email', 'Send Email', \n                  'Set Reminder', 'Set Reminder', 'Set Reminder', \n                  'Search Google', 'Search Google', 'Search Google', \n                  'Greetings', 'Greetings', 'Greetings']}\ndf = pd.DataFrame(data)\n\ndf['text'] = df['text'].str.lower()\n\nvectorizer = CountVectorizer()\nX = vectorizer.fit_transform(df['text'])\ny = df['intent']\n\nX_train, X_test, y_train, y_test = train_test_split(X, y, test_size=0.2, random_state=42)\n\nmodel = MultinomialNB()\nmodel.fit(X_train, y_train)\n\ny_pred = model.predict(X_test)\naccuracy = accuracy_score(y_test, y_pred)\nprint(f\"Accuracy: {accuracy}\")\n\nwith open('saved_model.pkl', 'wb') as file:\n    pickle.dump(model, file)\n    pickle.dump(vectorizer, file)  # Save the vectorizer as well\n\nwith open('saved_model.pkl', 'rb') as file:\n    loaded_model = pickle.load(file)\n    loaded_vectorizer = pickle.load(file)\n\nnew_phrase = \"Can you please send an email?\"\nnew_phrase_vec = loaded_vectorizer.transform([new_phrase])\npredicted_intent = loaded_model.predict(new_phrase_vec)\nprint(f\"Predicted Intent: {predicted_intent[0]}\")\n",
      "metadata": {
        "trusted": true
      },
      "outputs": [
        {
          "name": "stderr",
          "text": "<ipython-input-2-b3e098a2cf48>:1: DeprecationWarning: \nPyarrow will become a required dependency of pandas in the next major release of pandas (pandas 3.0),\n(to allow more performant data types, such as the Arrow string type, and better interoperability with other libraries)\nbut was not found to be installed on your system.\nIf this would cause problems for you,\nplease provide us feedback at https://github.com/pandas-dev/pandas/issues/54466\n        \n  import pandas as pd\n",
          "output_type": "stream"
        },
        {
          "name": "stdout",
          "text": "Accuracy: 0.75\nPredicted Intent: Search Google\n",
          "output_type": "stream"
        }
      ],
      "execution_count": 2
    }
  ]
}